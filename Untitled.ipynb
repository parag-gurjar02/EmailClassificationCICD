{
 "cells": [
  {
   "cell_type": "code",
   "execution_count": 7,
   "metadata": {},
   "outputs": [
    {
     "name": "stdout",
     "output_type": "stream",
     "text": [
      "{'classes': [{'name': 'category', 'values': [{'confidence': 0.5740249148062353, 'name': 'for.your.information.cases'}, {'confidence': 0.2576331510767067, 'name': 'shipment.status'}, {'confidence': 0.08078752464556735, 'name': 'expedite.request'}, {'confidence': 0.06942538900846343, 'name': 'internal.team.request.to.order.status.team'}, {'confidence': 0.018129020463027064, 'name': 'quote.status'}]}], 'modelId': '100', 'textId': '3'}\n"
     ]
    }
   ],
   "source": [
    "# -*- coding: utf-8 -*-\n",
    "\"\"\"\n",
    "Created on Mon Sep 24 19:57:07 2018\n",
    "\n",
    "@author: venkatesh.s49\n",
    "\"\"\"\n",
    "import json\n",
    "import requests\n",
    "import pandas as pd\n",
    "\n",
    "header = {'Content-Type': 'application/json', \\\n",
    "                  'Accept': 'application/json'}\n",
    "\n",
    "text_data={\"modelId\" : \"100\",\"textId\" : \"3\",\"Subject\":\"testing\", \"textContent\":\"my system is not working\",\"classToPredict\": [\"category\"]} \n",
    "\n",
    "resp = requests.post(\"http://127.0.0.1:5000/api/model/classify\", \\\n",
    "                    data = json.dumps(text_data),\\\n",
    "                    headers= header) \n",
    "resp.status_code\n",
    "k=resp.json()\n",
    "\n",
    "print (k)"
   ]
  },
  {
   "cell_type": "code",
   "execution_count": null,
   "metadata": {},
   "outputs": [],
   "source": []
  }
 ],
 "metadata": {
  "kernelspec": {
   "display_name": "Python 3",
   "language": "python",
   "name": "python3"
  },
  "language_info": {
   "codemirror_mode": {
    "name": "ipython",
    "version": 3
   },
   "file_extension": ".py",
   "mimetype": "text/x-python",
   "name": "python",
   "nbconvert_exporter": "python",
   "pygments_lexer": "ipython3",
   "version": "3.6.5"
  }
 },
 "nbformat": 4,
 "nbformat_minor": 2
}
